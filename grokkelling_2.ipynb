{
 "cells": [
  {
   "cell_type": "code",
   "execution_count": 1,
   "id": "8b0373fc-64bf-4396-abab-cb126268b5f2",
   "metadata": {},
   "outputs": [],
   "source": [
    "weight = 0.5\n",
    "goal_pred = 0.8\n",
    "usr_input =0.5\n"
   ]
  },
  {
   "cell_type": "code",
   "execution_count": null,
   "id": "bcf2229d-b643-4a52-a9f4-bdef2b1613aa",
   "metadata": {},
   "outputs": [],
   "source": [
    "for iteration in range(20):\n",
    "    pred = usr_input * weight\n",
    "    error = (pred -goal_pred) ** 2\n",
    "    direction_and_amount = (pred - goal_pred) * usr_input\n",
    "    weight = weight - direction_and_amount\n",
    "    print(\""
   ]
  }
 ],
 "metadata": {
  "kernelspec": {
   "display_name": "Python 3 (ipykernel)",
   "language": "python",
   "name": "python3"
  },
  "language_info": {
   "codemirror_mode": {
    "name": "ipython",
    "version": 3
   },
   "file_extension": ".py",
   "mimetype": "text/x-python",
   "name": "python",
   "nbconvert_exporter": "python",
   "pygments_lexer": "ipython3",
   "version": "3.10.4"
  }
 },
 "nbformat": 4,
 "nbformat_minor": 5
}
